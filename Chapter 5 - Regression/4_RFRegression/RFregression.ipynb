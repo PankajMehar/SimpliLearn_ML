{
 "cells": [
  {
   "cell_type": "code",
   "execution_count": null,
   "metadata": {
    "collapsed": true
   },
   "outputs": [],
   "source": [
    "#==============================================================================\n",
    "# First step to write the python program is to take benefit out of libraries\n",
    "# already available. We will only focus on the data science related libraries.\n",
    "#==============================================================================\n",
    "\n",
    "import numpy as np\n",
    "import matplotlib.pyplot as plt\n",
    "import pandas as pd"
   ]
  },
  {
   "cell_type": "code",
   "execution_count": null,
   "metadata": {
    "collapsed": true
   },
   "outputs": [],
   "source": [
    "#==============================================================================\n",
    "# #import data from the data file. In our case its Insurance.csv. \n",
    "#==============================================================================\n",
    "\n",
    "insuranceData = pd.read_csv ('Insurance.csv')"
   ]
  },
  {
   "cell_type": "code",
   "execution_count": null,
   "metadata": {
    "collapsed": true
   },
   "outputs": [],
   "source": [
    "#==============================================================================\n",
    "# All mathematical operations will be performed on the matrix, so now we create\n",
    "# matrix for dependent variables and independent variables.\n",
    "#==============================================================================\n",
    "\n",
    "X = insuranceData.iloc [:,0:1].values\n",
    "y = insuranceData.iloc [:, 1].values"
   ]
  },
  {
   "cell_type": "code",
   "execution_count": null,
   "metadata": {},
   "outputs": [],
   "source": [
    "#==============================================================================\n",
    "# Fit our data on Random Forest Regressor. Will start from 10 trees and will\n",
    "# go to higher number of trees to see the changes.\n",
    "#==============================================================================\n",
    "from sklearn.ensemble import RandomForestRegressor\n",
    "RFregressor = RandomForestRegressor(n_estimators = 10, random_state = 0)\n",
    "RFregressor.fit(X, y)"
   ]
  },
  {
   "cell_type": "code",
   "execution_count": null,
   "metadata": {},
   "outputs": [],
   "source": [
    "#==============================================================================\n",
    "# Visualize the regressor algo outcome\n",
    "#==============================================================================\n",
    "# Visualising the Regression results\n",
    "plt.scatter(X, y, color = 'red')\n",
    "plt.plot(X, RFregressor.predict(X), color = 'blue')\n",
    "plt.title('Insurance Premium - Random Forest')\n",
    "plt.xlabel('Age')\n",
    "plt.ylabel('Premium')\n",
    "plt.show()"
   ]
  },
  {
   "cell_type": "code",
   "execution_count": null,
   "metadata": {},
   "outputs": [],
   "source": [
    "#==============================================================================\n",
    "# Now see how accurately random forest regressor predict claims based\n",
    "# on age. Here values will be only exactly from the y array for certain range\n",
    "# of values as we are taking average.\n",
    "#==============================================================================\n",
    "val = 40\n",
    "predictionRF = RFregressor.predict (val)\n",
    "\n",
    "print (\"RF prediction = \", predictionRF)"
   ]
  },
  {
   "cell_type": "code",
   "execution_count": null,
   "metadata": {
    "collapsed": true
   },
   "outputs": [],
   "source": []
  }
 ],
 "metadata": {
  "kernelspec": {
   "display_name": "Python 3",
   "language": "python",
   "name": "python3"
  },
  "language_info": {
   "codemirror_mode": {
    "name": "ipython",
    "version": 3
   },
   "file_extension": ".py",
   "mimetype": "text/x-python",
   "name": "python",
   "nbconvert_exporter": "python",
   "pygments_lexer": "ipython3",
   "version": "3.6.1"
  }
 },
 "nbformat": 4,
 "nbformat_minor": 2
}
